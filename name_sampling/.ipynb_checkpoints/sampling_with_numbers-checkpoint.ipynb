{
 "cells": [
  {
   "cell_type": "code",
   "execution_count": 1,
   "metadata": {},
   "outputs": [],
   "source": [
    "import pandas as pd\n",
    "import numpy as np\n",
    "import os"
   ]
  },
  {
   "cell_type": "code",
   "execution_count": 2,
   "metadata": {},
   "outputs": [],
   "source": [
    "# Relative file paths\n",
    "fileDir = os.path.abspath(os.path.dirname(\"\"))\n",
    "korean_csv = os.path.join(fileDir, \"name_kor_combined_space.csv\")\n",
    "usa_csv = os.path.join(fileDir, \"name_usa_combined_space.csv\")"
   ]
  },
  {
   "cell_type": "code",
   "execution_count": 3,
   "metadata": {},
   "outputs": [
    {
     "name": "stdout",
     "output_type": "stream",
     "text": [
      "27710 1217781\n"
     ]
    }
   ],
   "source": [
    "# Read csv as dataframe\n",
    "korean_df = pd.read_csv(korean_csv)\n",
    "korean_df = korean_df[['name']]\n",
    "usa_df = pd.read_csv(usa_csv)\n",
    "usa_df = usa_df[['name']]\n",
    "print(len(korean_df), len(usa_df))"
   ]
  },
  {
   "cell_type": "code",
   "execution_count": 5,
   "metadata": {},
   "outputs": [],
   "source": [
    "# Input the number of samples\n",
    "num = 27710\n",
    "usa_df = usa_df.sample(n=num*2).sort_values(by=['name']).reset_index(drop=True)\n",
    "korean_df = korean_df.sample(n=num).sort_values(by=['name']).reset_index(drop=True)\n"
   ]
  },
  {
   "cell_type": "code",
   "execution_count": 6,
   "metadata": {},
   "outputs": [
    {
     "data": {
      "text/html": [
       "<div>\n",
       "<style scoped>\n",
       "    .dataframe tbody tr th:only-of-type {\n",
       "        vertical-align: middle;\n",
       "    }\n",
       "\n",
       "    .dataframe tbody tr th {\n",
       "        vertical-align: top;\n",
       "    }\n",
       "\n",
       "    .dataframe thead th {\n",
       "        text-align: right;\n",
       "    }\n",
       "</style>\n",
       "<table border=\"1\" class=\"dataframe\">\n",
       "  <thead>\n",
       "    <tr style=\"text-align: right;\">\n",
       "      <th></th>\n",
       "      <th>name</th>\n",
       "      <th>n_or_f</th>\n",
       "      <th>name_len</th>\n",
       "    </tr>\n",
       "  </thead>\n",
       "  <tbody>\n",
       "    <tr>\n",
       "      <th>0</th>\n",
       "      <td>abbott adolfo</td>\n",
       "      <td>f</td>\n",
       "      <td>13</td>\n",
       "    </tr>\n",
       "    <tr>\n",
       "      <th>1</th>\n",
       "      <td>abbott alfred</td>\n",
       "      <td>f</td>\n",
       "      <td>13</td>\n",
       "    </tr>\n",
       "    <tr>\n",
       "      <th>2</th>\n",
       "      <td>abbott alvaro</td>\n",
       "      <td>f</td>\n",
       "      <td>13</td>\n",
       "    </tr>\n",
       "    <tr>\n",
       "      <th>3</th>\n",
       "      <td>abbott amos</td>\n",
       "      <td>f</td>\n",
       "      <td>11</td>\n",
       "    </tr>\n",
       "    <tr>\n",
       "      <th>4</th>\n",
       "      <td>abbott arden</td>\n",
       "      <td>f</td>\n",
       "      <td>12</td>\n",
       "    </tr>\n",
       "  </tbody>\n",
       "</table>\n",
       "</div>"
      ],
      "text/plain": [
       "            name n_or_f  name_len\n",
       "0  abbott adolfo      f        13\n",
       "1  abbott alfred      f        13\n",
       "2  abbott alvaro      f        13\n",
       "3    abbott amos      f        11\n",
       "4   abbott arden      f        12"
      ]
     },
     "execution_count": 6,
     "metadata": {},
     "output_type": "execute_result"
    }
   ],
   "source": [
    "# Import columns for American names\n",
    "usa_df['n_or_f'] = 'f'\n",
    "usa_df['name_len'] = usa_df['name'].str.len()\n",
    "usa_df.head()"
   ]
  },
  {
   "cell_type": "code",
   "execution_count": 7,
   "metadata": {},
   "outputs": [
    {
     "data": {
      "text/html": [
       "<div>\n",
       "<style scoped>\n",
       "    .dataframe tbody tr th:only-of-type {\n",
       "        vertical-align: middle;\n",
       "    }\n",
       "\n",
       "    .dataframe tbody tr th {\n",
       "        vertical-align: top;\n",
       "    }\n",
       "\n",
       "    .dataframe thead th {\n",
       "        text-align: right;\n",
       "    }\n",
       "</style>\n",
       "<table border=\"1\" class=\"dataframe\">\n",
       "  <thead>\n",
       "    <tr style=\"text-align: right;\">\n",
       "      <th></th>\n",
       "      <th>name</th>\n",
       "      <th>n_or_f</th>\n",
       "      <th>name_len</th>\n",
       "    </tr>\n",
       "  </thead>\n",
       "  <tbody>\n",
       "    <tr>\n",
       "      <th>0</th>\n",
       "      <td>ahn byungchul</td>\n",
       "      <td>n</td>\n",
       "      <td>13</td>\n",
       "    </tr>\n",
       "    <tr>\n",
       "      <th>1</th>\n",
       "      <td>ahn byungho</td>\n",
       "      <td>n</td>\n",
       "      <td>11</td>\n",
       "    </tr>\n",
       "    <tr>\n",
       "      <th>2</th>\n",
       "      <td>ahn chaewon</td>\n",
       "      <td>n</td>\n",
       "      <td>11</td>\n",
       "    </tr>\n",
       "    <tr>\n",
       "      <th>3</th>\n",
       "      <td>ahn chunja</td>\n",
       "      <td>n</td>\n",
       "      <td>10</td>\n",
       "    </tr>\n",
       "    <tr>\n",
       "      <th>4</th>\n",
       "      <td>ahn chunja</td>\n",
       "      <td>n</td>\n",
       "      <td>10</td>\n",
       "    </tr>\n",
       "  </tbody>\n",
       "</table>\n",
       "</div>"
      ],
      "text/plain": [
       "            name n_or_f  name_len\n",
       "0  ahn byungchul      n        13\n",
       "1    ahn byungho      n        11\n",
       "2    ahn chaewon      n        11\n",
       "3     ahn chunja      n        10\n",
       "4     ahn chunja      n        10"
      ]
     },
     "execution_count": 7,
     "metadata": {},
     "output_type": "execute_result"
    }
   ],
   "source": [
    "# Import columns for Korean names\n",
    "korean_df['n_or_f'] = 'n'\n",
    "korean_df['name_len'] = korean_df['name'].str.len()\n",
    "korean_df.head()"
   ]
  },
  {
   "cell_type": "code",
   "execution_count": 8,
   "metadata": {},
   "outputs": [
    {
     "name": "stdout",
     "output_type": "stream",
     "text": [
      "                     name n_or_f  name_len\n",
      "0           abbott adolfo      f        13\n",
      "1           abbott alfred      f        13\n",
      "2           abbott alvaro      f        13\n",
      "3             abbott amos      f        11\n",
      "4            abbott arden      f        12\n",
      "5            abbott barry      f        12\n",
      "6         abbott benedict      f        15\n",
      "7             abbott bert      f        11\n",
      "8            abbott billy      f        12\n",
      "9            abbott chase      f        12\n",
      "10     abbott christopher      f        18\n",
      "11          abbott dorian      f        13\n",
      "12           abbott elvis      f        12\n",
      "13         abbott emerson      f        14\n",
      "14          abbott fabian      f        13\n",
      "15         abbott frankie      f        14\n",
      "16         abbott freddie      f        14\n",
      "17          abbott george      f        13\n",
      "18          abbott gerald      f        13\n",
      "19         abbott gregory      f        14\n",
      "20             abbott hai      f        10\n",
      "21            abbott hong      f        11\n",
      "22         abbott jacinto      f        14\n",
      "23           abbott jamel      f        12\n",
      "24          abbott jimmie      f        13\n",
      "25           abbott jonah      f        12\n",
      "26          abbott jordon      f        13\n",
      "27          abbott justin      f        13\n",
      "28           abbott kasey      f        12\n",
      "29           abbott kelly      f        12\n",
      "...                   ...    ...       ...\n",
      "83100          yun sungki      n        10\n",
      "83101         yun sungmin      n        11\n",
      "83102         yun sungmin      n        11\n",
      "83103         yun sungsoo      n        11\n",
      "83104        yun sunyoung      n        12\n",
      "83105          yun woojin      n        10\n",
      "83106           yun yeeun      n         9\n",
      "83107           yun yejun      n         9\n",
      "83108           yun yejun      n         9\n",
      "83109       yun youngchul      n        13\n",
      "83110         yun younggi      n        11\n",
      "83111        yun younggil      n        12\n",
      "83112        yun younghee      n        12\n",
      "83113         yun youngho      n        11\n",
      "83114         yun youngho      n        11\n",
      "83115       yun younghwan      n        13\n",
      "83116         yun youngil      n        11\n",
      "83117         yun youngja      n        11\n",
      "83118         yun youngja      n        11\n",
      "83119        yun youngjin      n        12\n",
      "83120         yun youngmi      n        11\n",
      "83121        yun youngsik      n        12\n",
      "83122        yun youngsik      n        12\n",
      "83123        yun youngsoo      n        12\n",
      "83124       yun youngsook      n        13\n",
      "83125         yun youngsu      n        11\n",
      "83126           yun yujin      n         9\n",
      "83127           yun yujun      n         9\n",
      "83128          yun yunseo      n        10\n",
      "83129          yun yunseo      n        10\n",
      "\n",
      "[83130 rows x 3 columns]\n"
     ]
    }
   ],
   "source": [
    "# Combine two sets of names\n",
    "combined_df = pd.concat([usa_df, korean_df])\n",
    "combined_df = combined_df.reset_index(drop=True)\n",
    "print(combined_df)"
   ]
  },
  {
   "cell_type": "code",
   "execution_count": 9,
   "metadata": {},
   "outputs": [],
   "source": [
    "# Export as csv\n",
    "combined_df.to_csv(\"origin_in.csv\")"
   ]
  },
  {
   "cell_type": "code",
   "execution_count": null,
   "metadata": {},
   "outputs": [],
   "source": []
  },
  {
   "cell_type": "code",
   "execution_count": null,
   "metadata": {},
   "outputs": [],
   "source": []
  }
 ],
 "metadata": {
  "kernelspec": {
   "display_name": "Python 3",
   "language": "python",
   "name": "python3"
  },
  "language_info": {
   "codemirror_mode": {
    "name": "ipython",
    "version": 3
   },
   "file_extension": ".py",
   "mimetype": "text/x-python",
   "name": "python",
   "nbconvert_exporter": "python",
   "pygments_lexer": "ipython3",
   "version": "3.6.5"
  }
 },
 "nbformat": 4,
 "nbformat_minor": 2
}
